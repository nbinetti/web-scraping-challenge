{
 "cells": [
  {
   "cell_type": "code",
   "execution_count": 3,
   "id": "e01dfc7a",
   "metadata": {},
   "outputs": [],
   "source": [
    "#dependencies\n",
    "from bs4 import BeautifulSoup as bs\n",
    "import requests\n",
    "import pymongo\n",
    "from splinter import Browser\n",
    "from flask import Flask, render_template, redirect\n",
    "from flask_pymongo import PyMongo\n",
    "import pandas as pd\n",
    "from selenium import webdriver\n",
    "from webdriver_manager.chrome import ChromeDriverManager\n",
    "import time"
   ]
  },
  {
   "cell_type": "code",
   "execution_count": 4,
   "id": "2577b2e2",
   "metadata": {},
   "outputs": [
    {
     "name": "stderr",
     "output_type": "stream",
     "text": [
      "\n",
      "\n",
      "====== WebDriver manager ======\n",
      "Current google-chrome version is 101.0.4951\n",
      "Get LATEST chromedriver version for 101.0.4951 google-chrome\n",
      "Trying to download new driver from https://chromedriver.storage.googleapis.com/101.0.4951.41/chromedriver_win32.zip\n",
      "Driver has been saved in cache [C:\\Users\\nbine\\.wdm\\drivers\\chromedriver\\win32\\101.0.4951.41]\n"
     ]
    }
   ],
   "source": [
    "executable_path = {'executable_path': ChromeDriverManager().install()}\n",
    "browser = Browser('chrome', **executable_path, headless=False)"
   ]
  },
  {
   "cell_type": "markdown",
   "id": "ab671be2",
   "metadata": {},
   "source": [
    "# NASA Mars News"
   ]
  },
  {
   "cell_type": "code",
   "execution_count": 5,
   "id": "d409464f",
   "metadata": {},
   "outputs": [],
   "source": [
    "#URL of page\n",
    "url = 'https://redplanetscience.com/'\n",
    "browser.visit(url)\n",
    "time.sleep(1)\n"
   ]
  },
  {
   "cell_type": "code",
   "execution_count": 6,
   "id": "6a0e1bca",
   "metadata": {},
   "outputs": [],
   "source": [
    "#Scrape page into Soup\n",
    "html = browser.html\n",
    "soup = bs(html, \"html.parser\")"
   ]
  },
  {
   "cell_type": "code",
   "execution_count": 7,
   "id": "c7bd6d65",
   "metadata": {},
   "outputs": [],
   "source": [
    "news_title = soup.find_all('div', class_='content_title')[0].text\n",
    "news_p = soup.find_all('div', class_='article_teaser_body')[0].text\n",
    "# print(f\"news_title: {news_title}\")\n",
    "# print(f\"news_p: {news_p}\")"
   ]
  },
  {
   "cell_type": "markdown",
   "id": "0e4896f8",
   "metadata": {},
   "source": [
    "JPL Mars Space Images - Featured Image"
   ]
  },
  {
   "cell_type": "code",
   "execution_count": 8,
   "id": "2b14699e",
   "metadata": {},
   "outputs": [],
   "source": [
    "jpl_url = 'https://spaceimages-mars.com/'\n",
    "browser.visit(jpl_url)\n",
    "time.sleep(3)"
   ]
  },
  {
   "cell_type": "code",
   "execution_count": 9,
   "id": "a737cb14",
   "metadata": {},
   "outputs": [],
   "source": [
    "html=browser.html\n",
    "soup=bs(html, 'html.parser')\n",
    "image_url = soup.find(\"a\", class_ = \"showimg fancybox-thumbs\")[\"href\"]\n",
    "featured_image_url = jpl_url + image_url\n",
    "# featured_image_url"
   ]
  },
  {
   "cell_type": "markdown",
   "id": "e15eb148",
   "metadata": {},
   "source": [
    "Mars Facts"
   ]
  },
  {
   "cell_type": "code",
   "execution_count": 10,
   "id": "110a33b1",
   "metadata": {},
   "outputs": [],
   "source": [
    "facts_url = \"https://galaxyfacts-mars.com\"\n",
    "browser.visit(facts_url)"
   ]
  },
  {
   "cell_type": "code",
   "execution_count": 11,
   "id": "a96eb2be",
   "metadata": {},
   "outputs": [],
   "source": [
    "tables = pd.read_html(facts_url)\n",
    "# print(tables)\n",
    "df = tables[1]\n",
    "df.columns = [\"Description\", \"Value\"]\n",
    "df.set_index(\"Description\", inplace=True)\n",
    "# df\n",
    "\n",
    "              "
   ]
  },
  {
   "cell_type": "markdown",
   "id": "06ca2560",
   "metadata": {},
   "source": [
    "Mars Hemispheres"
   ]
  },
  {
   "cell_type": "code",
   "execution_count": 12,
   "id": "1b6c9fbd",
   "metadata": {},
   "outputs": [],
   "source": [
    "hemispheres_url = \"https://marshemispheres.com/\"\n",
    "browser.visit(hemispheres_url)"
   ]
  },
  {
   "cell_type": "code",
   "execution_count": 13,
   "id": "16462494",
   "metadata": {},
   "outputs": [],
   "source": [
    "time.sleep(4)\n",
    "hemisphere_html = browser.html\n",
    "soup = bs(hemisphere_html, 'html.parser')"
   ]
  },
  {
   "cell_type": "code",
   "execution_count": 14,
   "id": "3fc1874f",
   "metadata": {},
   "outputs": [],
   "source": [
    "items = soup.find_all(\"div\", class_=\"item\")\n",
    "hemisphere_urls = []\n",
    "\n",
    "for i in range(4):\n",
    "    #create empty dictionary\n",
    "    hemispheres = {}\n",
    "    browser.find_by_css('a.product-item h3')[i].click()\n",
    "    element = browser.links.find_by_text('Sample').first\n",
    "    img_url = element['href']\n",
    "    title = browser.find_by_css(\"h2.title\").text\n",
    "    hemispheres[\"img_url\"] = img_url\n",
    "    hemispheres[\"title\"] = title\n",
    "    hemisphere_urls.append(hemispheres)\n",
    "    browser.back()"
   ]
  },
  {
   "cell_type": "code",
   "execution_count": 15,
   "id": "70836b10",
   "metadata": {},
   "outputs": [],
   "source": [
    "# hemisphere_urls"
   ]
  },
  {
   "cell_type": "code",
   "execution_count": 16,
   "id": "495ab300",
   "metadata": {},
   "outputs": [],
   "source": [
    "browser.quit()"
   ]
  },
  {
   "cell_type": "code",
   "execution_count": null,
   "id": "fa1c5f30",
   "metadata": {},
   "outputs": [],
   "source": []
  }
 ],
 "metadata": {
  "kernelspec": {
   "display_name": "Python 3 (ipykernel)",
   "language": "python",
   "name": "python3"
  },
  "language_info": {
   "codemirror_mode": {
    "name": "ipython",
    "version": 3
   },
   "file_extension": ".py",
   "mimetype": "text/x-python",
   "name": "python",
   "nbconvert_exporter": "python",
   "pygments_lexer": "ipython3",
   "version": "3.9.7"
  }
 },
 "nbformat": 4,
 "nbformat_minor": 5
}
